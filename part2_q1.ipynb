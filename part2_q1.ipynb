{
 "cells": [
  {
   "cell_type": "markdown",
   "metadata": {},
   "source": [
    "## Part 2\n",
    "\n",
    "In this part of the project, you will compare the output of two linguistic processing libraries (e.g., Stanza vs. Spacy). Using a given set\n",
    "of texts, you will run both libraries on these texts and report statistics\n",
    "on how often they (dis)agree with respect to the task of named entity\n",
    "recognition. For ease of comparison, ensure that both pipelines use\n",
    "the same tokenization."
   ]
  },
  {
   "cell_type": "markdown",
   "metadata": {},
   "source": [
    "1. Named Entity Recognition (10 points)\n",
    "\n",
    "• Write a function that will process one document (i.e. a biography)\n",
    "and return the set of named entities (NE) detected within it. Do\n",
    "this for both Spacy and Stanza. Store your results where (e.g.\n",
    "Pandas dataframe/json file) you can easily retrieve them to do\n",
    "comparisons.\n",
    "\n",
    "• Report basic statistics about the predicted set of NEs by each package (i.e. Spacy vs Stanza). This should include:\n",
    "(a) avg/min/max number of NEs. Report this per category per\n",
    "package.\n",
    "(b) avg/min/max number of words in each NE. Report this per\n",
    "category per package.\n",
    "(c) Use visualisation to compare the above 2 statistics, per category\n",
    "per package."
   ]
  },
  {
   "cell_type": "markdown",
   "metadata": {},
   "source": [
    "Download libraries"
   ]
  },
  {
   "cell_type": "code",
   "execution_count": 1,
   "metadata": {},
   "outputs": [
    {
     "name": "stderr",
     "output_type": "stream",
     "text": [
      "C:\\Users\\Ahana\\AppData\\Local\\Packages\\PythonSoftwareFoundation.Python.3.11_qbz5n2kfra8p0\\LocalCache\\local-packages\\Python311\\site-packages\\transformers\\utils\\generic.py:441: UserWarning: torch.utils._pytree._register_pytree_node is deprecated. Please use torch.utils._pytree.register_pytree_node instead.\n",
      "  _torch_pytree._register_pytree_node(\n"
     ]
    }
   ],
   "source": [
    "import os\n",
    "import spacy\n",
    "import stanza\n",
    "import pandas as pd\n",
    "import matplotlib.pyplot as plt\n",
    "import numpy as np\n",
    "from spacy.tokens import Doc"
   ]
  },
  {
   "cell_type": "markdown",
   "metadata": {},
   "source": [
    "Pre-tokenize the text"
   ]
  },
  {
   "cell_type": "code",
   "execution_count": 2,
   "metadata": {},
   "outputs": [],
   "source": [
    "def tokenize_text(text):\n",
    "    \"\"\"\n",
    "    Tokenizes input text into a list of tokens.\n",
    "    \"\"\"\n",
    "    return text.split()"
   ]
  },
  {
   "cell_type": "markdown",
   "metadata": {},
   "source": [
    "Reading biographies one by one (in order to save memory)"
   ]
  },
  {
   "cell_type": "code",
   "execution_count": 3,
   "metadata": {},
   "outputs": [],
   "source": [
    "def read_biographies(folder_path):\n",
    "    \"\"\"\n",
    "    Reads text files from a specific folder. \n",
    "    Yields a tuple that contains the person's name, category (Computer scientist or sculptor) and the text from each file.\n",
    "    \"\"\"\n",
    "    for filename in os.listdir(folder_path):\n",
    "        if filename.endswith(\".txt\"):\n",
    "            category = filename.split(\"_\")[-1].split(\".\")[0]\n",
    "            name = \"_\".join(filename.split(\"_\")[:-1])\n",
    "            with open(os.path.join(folder_path, filename), 'r', encoding='utf-8') as file:\n",
    "                text = file.read()\n",
    "            yield name, category, text"
   ]
  },
  {
   "cell_type": "markdown",
   "metadata": {},
   "source": [
    "Spacy pipeline"
   ]
  },
  {
   "cell_type": "code",
   "execution_count": 4,
   "metadata": {},
   "outputs": [],
   "source": [
    "nlp_spacy = spacy.load(\"en_core_web_sm\")\n",
    "\n",
    "def extract_entities_spacy(tokenized_text):\n",
    "    \"\"\"\n",
    "    Extracts named entities and their labels from tokenized text using Spacy's NER.\n",
    "    \"\"\"\n",
    "    doc = Doc(nlp_spacy.vocab, words=tokenized_text)\n",
    "    nlp_spacy.get_pipe(\"ner\")(doc)\n",
    "    entities = []\n",
    "    for ent in doc.ents:\n",
    "        entities.append((ent.text, ent.label_))\n",
    "    return entities"
   ]
  },
  {
   "cell_type": "markdown",
   "metadata": {},
   "source": [
    "Stanza pipeline"
   ]
  },
  {
   "cell_type": "code",
   "execution_count": 5,
   "metadata": {},
   "outputs": [
    {
     "data": {
      "application/vnd.jupyter.widget-view+json": {
       "model_id": "4500f524ce884008996ca54ed5972c93",
       "version_major": 2,
       "version_minor": 0
      },
      "text/plain": [
       "Downloading https://raw.githubusercontent.com/stanfordnlp/stanza-resources/main/resources_1.8.0.json:   0%|   …"
      ]
     },
     "metadata": {},
     "output_type": "display_data"
    },
    {
     "name": "stderr",
     "output_type": "stream",
     "text": [
      "2024-06-15 09:20:51 INFO: Downloaded file to C:\\Users\\Ahana\\stanza_resources\\resources.json\n",
      "2024-06-15 09:20:51 INFO: Downloading default packages for language: en (English) ...\n",
      "2024-06-15 09:20:52 INFO: File exists: C:\\Users\\Ahana\\stanza_resources\\en\\default.zip\n",
      "2024-06-15 09:20:55 INFO: Finished downloading models and saved to C:\\Users\\Ahana\\stanza_resources\n",
      "2024-06-15 09:20:55 INFO: Checking for updates to resources.json in case models have been updated.  Note: this behavior can be turned off with download_method=None or download_method=DownloadMethod.REUSE_RESOURCES\n"
     ]
    },
    {
     "data": {
      "application/vnd.jupyter.widget-view+json": {
       "model_id": "59b56de43c9c4faf86e6436e353d2ab5",
       "version_major": 2,
       "version_minor": 0
      },
      "text/plain": [
       "Downloading https://raw.githubusercontent.com/stanfordnlp/stanza-resources/main/resources_1.8.0.json:   0%|   …"
      ]
     },
     "metadata": {},
     "output_type": "display_data"
    },
    {
     "name": "stderr",
     "output_type": "stream",
     "text": [
      "2024-06-15 09:20:55 INFO: Downloaded file to C:\\Users\\Ahana\\stanza_resources\\resources.json\n",
      "2024-06-15 09:20:55 WARNING: Language en package default expects mwt, which has been added\n",
      "2024-06-15 09:20:56 INFO: Loading these models for language: en (English):\n",
      "=========================================\n",
      "| Processor | Package                   |\n",
      "-----------------------------------------\n",
      "| tokenize  | combined                  |\n",
      "| mwt       | combined                  |\n",
      "| ner       | ontonotes-ww-multi_charlm |\n",
      "=========================================\n",
      "\n",
      "2024-06-15 09:20:56 INFO: Using device: cpu\n",
      "2024-06-15 09:20:56 INFO: Loading: tokenize\n",
      "2024-06-15 09:20:56 INFO: Loading: mwt\n",
      "2024-06-15 09:20:56 INFO: Loading: ner\n",
      "2024-06-15 09:20:57 INFO: Done loading processors!\n"
     ]
    }
   ],
   "source": [
    "stanza.download('en')\n",
    "nlp_stanza = stanza.Pipeline('en', processors='tokenize,ner')\n",
    "\n",
    "def extract_entities_stanza(tokenized_text):\n",
    "    \"\"\"\n",
    "    Extracts named entities and their types from tokenized text using Stanza's NER.\n",
    "    \"\"\"\n",
    "    text = \" \".join(tokenized_text)\n",
    "    doc = nlp_stanza(text)\n",
    "    entities = []\n",
    "    for ent in doc.ents:\n",
    "        entities.append((ent.text, ent.type))\n",
    "    return entities"
   ]
  },
  {
   "cell_type": "markdown",
   "metadata": {},
   "source": [
    "Process biographies and write to CSV"
   ]
  },
  {
   "cell_type": "code",
   "execution_count": 6,
   "metadata": {},
   "outputs": [],
   "source": [
    "def process_biographies(folder_path, output_csv):\n",
    "    \"\"\"\n",
    "Calls the previous functions to process the biographies.\n",
    "Creates a pandas datadet to store the data. \n",
    "The dataset contains four columns named 'name' (person's name), 'category' (computer scientist or sculptors), 'package' (spacy or stanza) and 'entities' (named entities extracted with their labels/types)\n",
    "    \"\"\"\n",
    "    data = []\n",
    "    for name, category, text in read_biographies(folder_path):\n",
    "        tokenized_text = tokenize_text(text)\n",
    "        entities_spacy = extract_entities_spacy(tokenized_text)\n",
    "        entities_stanza = extract_entities_stanza(tokenized_text)\n",
    "        data.append((name, category, 'spacy', entities_spacy))\n",
    "        data.append((name, category, 'stanza', entities_stanza))\n",
    "\n",
    "        # Clean up to free memory\n",
    "        del tokenized_text, entities_spacy, entities_stanza\n",
    "\n",
    "    df = pd.DataFrame(data, columns=['name', 'category', 'package', 'entities'])\n",
    "    df.to_csv(output_csv, index=False)\n",
    "    return df"
   ]
  },
  {
   "cell_type": "markdown",
   "metadata": {},
   "source": [
    "Calculate statistics"
   ]
  },
  {
   "cell_type": "code",
   "execution_count": 7,
   "metadata": {},
   "outputs": [],
   "source": [
    "def calculate_statistics(df):\n",
    "    \"\"\"\n",
    "    calculates averages, minimums, and maximums for the number of entities per biography and the number of words per entity.\n",
    "    Returns a nested dictionary containing statistics grouped by category and NLP package where each category dictionary contains package-specific statistics dictionaries\n",
    "    \"\"\"\n",
    "    stats = {}\n",
    "    categories = df['category'].unique()\n",
    "    packages = df['package'].unique()\n",
    "\n",
    "    for category in categories:\n",
    "        stats[category] = {}\n",
    "        for package in packages:\n",
    "            package_df = df[(df['category'] == category) & (df['package'] == package)]\n",
    "            if not package_df.empty:\n",
    "                num_entities_list = package_df['entities'].apply(len)\n",
    "                avg_num_entities = num_entities_list.mean()\n",
    "                min_num_entities = num_entities_list.min()\n",
    "                max_num_entities = num_entities_list.max()\n",
    "\n",
    "                num_words_per_entity_list = package_df['entities'].apply(lambda entities: sum(len(ent[0].split()) for ent in entities))\n",
    "                avg_num_words_per_entity = num_words_per_entity_list.mean()\n",
    "                min_num_words_per_entity = num_words_per_entity_list.min()\n",
    "                max_num_words_per_entity = num_words_per_entity_list.max()\n",
    "\n",
    "                stats[category][package] = {\n",
    "                    'num_entities': {'avg': avg_num_entities, 'min': min_num_entities, 'max': max_num_entities},\n",
    "                    'num_words_per_entity': {'avg': avg_num_words_per_entity, 'min': min_num_words_per_entity, 'max': max_num_words_per_entity}\n",
    "                }\n",
    "\n",
    "    return stats"
   ]
  },
  {
   "cell_type": "markdown",
   "metadata": {},
   "source": [
    "Visualize statistics"
   ]
  },
  {
   "cell_type": "code",
   "execution_count": 8,
   "metadata": {},
   "outputs": [],
   "source": [
    "def visualize_statistics(stats):\n",
    "    \"\"\"\n",
    "    Iterates through each metric ('num_entities' and 'num_words_per_entity') to generate separate bar plots for each metric across different categories (computer scientists) and NLP packages (spacy and stanza).\n",
    "    Categories without any relevant data are excluded from the visualization.\n",
    "    \"\"\"\n",
    "    categories = [category for category in stats.keys() if category != 'links']  # Exclude 'links' category\n",
    "    packages = ['spacy', 'stanza']\n",
    "    metrics = ['num_entities', 'num_words_per_entity']\n",
    "\n",
    "    for metric in metrics:\n",
    "        fig, axes = plt.subplots(1, len(categories), figsize=(15, 5), sharey=True)\n",
    "        axes = np.atleast_1d(axes)  # Ensure axes is always an array\n",
    "\n",
    "        for i, category in enumerate(categories):\n",
    "            ax = axes[i]\n",
    "            data = []\n",
    "            for package in packages:\n",
    "                if package in stats[category]:\n",
    "                    metric_stats = stats[category][package][metric]\n",
    "                    data.append(metric_stats)\n",
    "\n",
    "            if data:\n",
    "                df = pd.DataFrame(data, index=packages)\n",
    "                df.plot(kind='bar', ax=ax)\n",
    "                ax.set_title(f'{category} - {metric}')\n",
    "                ax.set_ylabel(metric)\n",
    "\n",
    "        plt.tight_layout()\n",
    "        plt.show()"
   ]
  },
  {
   "cell_type": "code",
   "execution_count": 9,
   "metadata": {},
   "outputs": [
    {
     "name": "stdout",
     "output_type": "stream",
     "text": [
      "CSV file 'C:\\Users\\Ahana\\OneDrive\\Desktop\\Project\\Project\\finalner.csv' has been created.\n"
     ]
    },
    {
     "data": {
      "image/png": "[encoded data removed]",
      "text/plain": [
       "<Figure size 1500x500 with 2 Axes>"
      ]
     },
     "metadata": {},
     "output_type": "display_data"
    },
    {
     "data": {
      "image/png": "[encoded data removed]",
      "text/plain": [
       "<Figure size 1500x500 with 2 Axes>"
      ]
     },
     "metadata": {},
     "output_type": "display_data"
    }
   ],
   "source": [
    "folder_path = rf\"C:\\Users\\Ahana\\OneDrive\\Desktop\\Project\\Project\"  \n",
    "output_csv = rf\"C:\\Users\\Ahana\\OneDrive\\Desktop\\Project\\Project\\finalner.csv\"  \n",
    "df = process_biographies(folder_path, output_csv)\n",
    "print(f\"CSV file '{output_csv}' has been created.\")\n",
    "\n",
    "stats = calculate_statistics(df)\n",
    "visualize_statistics(stats)"
   ]
  }
 ],
 "metadata": {
  "kernelspec": {
   "display_name": "Python 3",
   "language": "python",
   "name": "python3"
  },
  "language_info": {
   "codemirror_mode": {
    "name": "ipython",
    "version": 3
   },
   "file_extension": ".py",
   "mimetype": "text/x-python",
   "name": "python",
   "nbconvert_exporter": "python",
   "pygments_lexer": "ipython3",
   "version": "3.11.9"
  }
 },
 "nbformat": 4,
 "nbformat_minor": 2
}
